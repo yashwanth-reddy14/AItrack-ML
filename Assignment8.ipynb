{
 "cells": [
  {
   "cell_type": "code",
   "execution_count": 1,
   "metadata": {},
   "outputs": [
    {
     "data": {
      "text/plain": [
       "(2184, 10)"
      ]
     },
     "execution_count": 1,
     "metadata": {},
     "output_type": "execute_result"
    }
   ],
   "source": [
    "import pandas as pd\n",
    "\n",
    "data = pd.read_csv('LoadDatainkW.csv')\n",
    "data.head()\n",
    "data.shape"
   ]
  },
  {
   "cell_type": "code",
   "execution_count": 2,
   "metadata": {},
   "outputs": [
    {
     "name": "stdout",
     "output_type": "stream",
     "text": [
      "(2183,)\n",
      "(2183,)\n"
     ]
    }
   ],
   "source": [
    "hour_1 = data.iloc[0:-1, 2]\n",
    "hour_2 = data.iloc[1:, 2]\n",
    "print(hour_1.shape)\n",
    "print(hour_2.shape)"
   ]
  },
  {
   "cell_type": "code",
   "execution_count": 4,
   "metadata": {},
   "outputs": [],
   "source": [
    "hour_2 = hour_2.reset_index()\n",
    "hour_2 = hour_2['Load (kW)']"
   ]
  },
  {
   "cell_type": "code",
   "execution_count": 5,
   "metadata": {},
   "outputs": [
    {
     "data": {
      "text/plain": [
       "(2183, 2)"
      ]
     },
     "execution_count": 5,
     "metadata": {},
     "output_type": "execute_result"
    }
   ],
   "source": [
    "df = pd.concat([hour_1, hour_2], axis = 1)\n",
    "df.shape"
   ]
  },
  {
   "cell_type": "code",
   "execution_count": 6,
   "metadata": {},
   "outputs": [
    {
     "data": {
      "text/plain": [
       "<bound method NDFrame.head of           Hour_1      Hour_2\n",
       "0     5551.82208  4983.17184\n",
       "1     4983.17184  4888.39680\n",
       "2     4888.39680  5072.95872\n",
       "3     5072.95872  5196.25980\n",
       "4     5196.25980  5641.29720\n",
       "...          ...         ...\n",
       "2178  5045.52384  4626.51840\n",
       "2179  4626.51840  4567.90752\n",
       "2180  4567.90752  4723.63164\n",
       "2181  4723.63164  5150.27520\n",
       "2182  5150.27520  6938.37468\n",
       "\n",
       "[2183 rows x 2 columns]>"
      ]
     },
     "execution_count": 6,
     "metadata": {},
     "output_type": "execute_result"
    }
   ],
   "source": [
    "df.columns = ['Hour_1', 'Hour_2']\n",
    "df.head"
   ]
  },
  {
   "cell_type": "code",
   "execution_count": 7,
   "metadata": {},
   "outputs": [
    {
     "data": {
      "text/html": [
       "<div>\n",
       "<style scoped>\n",
       "    .dataframe tbody tr th:only-of-type {\n",
       "        vertical-align: middle;\n",
       "    }\n",
       "\n",
       "    .dataframe tbody tr th {\n",
       "        vertical-align: top;\n",
       "    }\n",
       "\n",
       "    .dataframe thead th {\n",
       "        text-align: right;\n",
       "    }\n",
       "</style>\n",
       "<table border=\"1\" class=\"dataframe\">\n",
       "  <thead>\n",
       "    <tr style=\"text-align: right;\">\n",
       "      <th></th>\n",
       "      <th>Hour_1</th>\n",
       "      <th>Hour_2</th>\n",
       "    </tr>\n",
       "  </thead>\n",
       "  <tbody>\n",
       "    <tr>\n",
       "      <td>0</td>\n",
       "      <td>-0.446228</td>\n",
       "      <td>-0.979915</td>\n",
       "    </tr>\n",
       "    <tr>\n",
       "      <td>1</td>\n",
       "      <td>-0.979438</td>\n",
       "      <td>-1.068773</td>\n",
       "    </tr>\n",
       "    <tr>\n",
       "      <td>2</td>\n",
       "      <td>-1.068307</td>\n",
       "      <td>-0.895734</td>\n",
       "    </tr>\n",
       "    <tr>\n",
       "      <td>3</td>\n",
       "      <td>-0.895247</td>\n",
       "      <td>-0.780131</td>\n",
       "    </tr>\n",
       "    <tr>\n",
       "      <td>4</td>\n",
       "      <td>-0.779630</td>\n",
       "      <td>-0.362881</td>\n",
       "    </tr>\n",
       "  </tbody>\n",
       "</table>\n",
       "</div>"
      ],
      "text/plain": [
       "     Hour_1    Hour_2\n",
       "0 -0.446228 -0.979915\n",
       "1 -0.979438 -1.068773\n",
       "2 -1.068307 -0.895734\n",
       "3 -0.895247 -0.780131\n",
       "4 -0.779630 -0.362881"
      ]
     },
     "execution_count": 7,
     "metadata": {},
     "output_type": "execute_result"
    }
   ],
   "source": [
    "normalized_df = (df - df.mean()) / df.std()\n",
    "normalized_df.head()"
   ]
  },
  {
   "cell_type": "code",
   "execution_count": 8,
   "metadata": {},
   "outputs": [],
   "source": [
    "from sklearn.model_selection import train_test_split\n",
    "x_train, x_test, y_train, y_test = train_test_split(normalized_df.Hour_1, normalized_df.Hour_2, test_size = 0.10, random_state = 42)"
   ]
  },
  {
   "cell_type": "code",
   "execution_count": 9,
   "metadata": {},
   "outputs": [
    {
     "name": "stdout",
     "output_type": "stream",
     "text": [
      "Iteration: 1\tValue of m: 0.8497957222095366, \tValue of c: -0.15662392198536862\n",
      "Iteration: 2\tValue of m: 0.8497957222095366, \tValue of c: -0.15662392198536862\n",
      "Iteration: 3\tValue of m: 0.8497957222095366, \tValue of c: -0.15662392198536862\n",
      "Iteration: 4\tValue of m: 0.8497957222095366, \tValue of c: -0.15662392198536862\n",
      "Iteration: 5\tValue of m: 0.8497957222095366, \tValue of c: -0.15662392198536862\n",
      "Iteration: 6\tValue of m: 0.8497957222095366, \tValue of c: -0.15662392198536862\n",
      "Iteration: 7\tValue of m: 0.8497957222095366, \tValue of c: -0.15662392198536862\n",
      "Iteration: 8\tValue of m: 0.8497957222095366, \tValue of c: -0.15662392198536862\n",
      "Iteration: 9\tValue of m: 0.8497957222095366, \tValue of c: -0.15662392198536862\n",
      "Iteration: 10\tValue of m: 0.8497957222095366, \tValue of c: -0.15662392198536862\n",
      "Iteration: 11\tValue of m: 0.8497957222095366, \tValue of c: -0.15662392198536862\n",
      "Iteration: 12\tValue of m: 0.8497957222095366, \tValue of c: -0.15662392198536862\n",
      "Iteration: 13\tValue of m: 0.8497957222095366, \tValue of c: -0.15662392198536862\n",
      "Iteration: 14\tValue of m: 0.8497957222095366, \tValue of c: -0.15662392198536862\n",
      "Iteration: 15\tValue of m: 0.8497957222095366, \tValue of c: -0.15662392198536862\n",
      "Iteration: 16\tValue of m: 0.8497957222095366, \tValue of c: -0.15662392198536862\n",
      "Iteration: 17\tValue of m: 0.8497957222095366, \tValue of c: -0.15662392198536862\n",
      "Iteration: 18\tValue of m: 0.8497957222095366, \tValue of c: -0.15662392198536862\n",
      "Iteration: 19\tValue of m: 0.8497957222095366, \tValue of c: -0.15662392198536862\n",
      "Iteration: 20\tValue of m: 0.8497957222095366, \tValue of c: -0.15662392198536862\n",
      "Iteration: 21\tValue of m: 0.8497957222095366, \tValue of c: -0.15662392198536862\n",
      "Iteration: 22\tValue of m: 0.8497957222095366, \tValue of c: -0.15662392198536862\n",
      "Iteration: 23\tValue of m: 0.8497957222095366, \tValue of c: -0.15662392198536862\n",
      "Iteration: 24\tValue of m: 0.8497957222095366, \tValue of c: -0.15662392198536862\n",
      "Iteration: 25\tValue of m: 0.8497957222095366, \tValue of c: -0.15662392198536862\n",
      "Iteration: 26\tValue of m: 0.8497957222095366, \tValue of c: -0.15662392198536862\n",
      "Iteration: 27\tValue of m: 0.8497957222095366, \tValue of c: -0.15662392198536862\n",
      "Iteration: 28\tValue of m: 0.8497957222095366, \tValue of c: -0.15662392198536862\n",
      "Iteration: 29\tValue of m: 0.8497957222095366, \tValue of c: -0.15662392198536862\n",
      "Iteration: 30\tValue of m: 0.8497957222095366, \tValue of c: -0.15662392198536862\n",
      "Iteration: 31\tValue of m: 0.8497957222095366, \tValue of c: -0.15662392198536862\n",
      "Iteration: 32\tValue of m: 0.8497957222095366, \tValue of c: -0.15662392198536862\n",
      "Iteration: 33\tValue of m: 0.8497957222095366, \tValue of c: -0.15662392198536862\n",
      "Iteration: 34\tValue of m: 0.8497957222095366, \tValue of c: -0.15662392198536862\n",
      "Iteration: 35\tValue of m: 0.8497957222095366, \tValue of c: -0.15662392198536862\n",
      "Iteration: 36\tValue of m: 0.8497957222095366, \tValue of c: -0.15662392198536862\n",
      "Iteration: 37\tValue of m: 0.8497957222095366, \tValue of c: -0.15662392198536862\n",
      "Iteration: 38\tValue of m: 0.8497957222095366, \tValue of c: -0.15662392198536862\n",
      "Iteration: 39\tValue of m: 0.8497957222095366, \tValue of c: -0.15662392198536862\n",
      "Iteration: 40\tValue of m: 0.8497957222095366, \tValue of c: -0.15662392198536862\n",
      "Iteration: 41\tValue of m: 0.8497957222095366, \tValue of c: -0.15662392198536862\n",
      "Iteration: 42\tValue of m: 0.8497957222095366, \tValue of c: -0.15662392198536862\n",
      "Iteration: 43\tValue of m: 0.8497957222095366, \tValue of c: -0.15662392198536862\n",
      "Iteration: 44\tValue of m: 0.8497957222095366, \tValue of c: -0.15662392198536862\n",
      "Iteration: 45\tValue of m: 0.8497957222095366, \tValue of c: -0.15662392198536862\n",
      "Iteration: 46\tValue of m: 0.8497957222095366, \tValue of c: -0.15662392198536862\n",
      "Iteration: 47\tValue of m: 0.8497957222095366, \tValue of c: -0.15662392198536862\n",
      "Iteration: 48\tValue of m: 0.8497957222095366, \tValue of c: -0.15662392198536862\n",
      "Iteration: 49\tValue of m: 0.8497957222095366, \tValue of c: -0.15662392198536862\n",
      "Iteration: 50\tValue of m: 0.8497957222095366, \tValue of c: -0.15662392198536862\n",
      "Iteration: 51\tValue of m: 0.8497957222095366, \tValue of c: -0.15662392198536862\n",
      "Iteration: 52\tValue of m: 0.8497957222095366, \tValue of c: -0.15662392198536862\n",
      "Iteration: 53\tValue of m: 0.8497957222095366, \tValue of c: -0.15662392198536862\n",
      "Iteration: 54\tValue of m: 0.8497957222095366, \tValue of c: -0.15662392198536862\n",
      "Iteration: 55\tValue of m: 0.8497957222095366, \tValue of c: -0.15662392198536862\n",
      "Iteration: 56\tValue of m: 0.8497957222095366, \tValue of c: -0.15662392198536862\n",
      "Iteration: 57\tValue of m: 0.8497957222095366, \tValue of c: -0.15662392198536862\n",
      "Iteration: 58\tValue of m: 0.8497957222095366, \tValue of c: -0.15662392198536862\n",
      "Iteration: 59\tValue of m: 0.8497957222095366, \tValue of c: -0.15662392198536862\n",
      "Iteration: 60\tValue of m: 0.8497957222095366, \tValue of c: -0.15662392198536862\n",
      "Iteration: 61\tValue of m: 0.8497957222095366, \tValue of c: -0.15662392198536862\n",
      "Iteration: 62\tValue of m: 0.8497957222095366, \tValue of c: -0.15662392198536862\n",
      "Iteration: 63\tValue of m: 0.8497957222095366, \tValue of c: -0.15662392198536862\n",
      "Iteration: 64\tValue of m: 0.8497957222095366, \tValue of c: -0.15662392198536862\n",
      "Iteration: 65\tValue of m: 0.8497957222095366, \tValue of c: -0.15662392198536862\n",
      "Iteration: 66\tValue of m: 0.8497957222095366, \tValue of c: -0.15662392198536862\n",
      "Iteration: 67\tValue of m: 0.8497957222095366, \tValue of c: -0.15662392198536862\n",
      "Iteration: 68\tValue of m: 0.8497957222095366, \tValue of c: -0.15662392198536862\n",
      "Iteration: 69\tValue of m: 0.8497957222095366, \tValue of c: -0.15662392198536862\n",
      "Iteration: 70\tValue of m: 0.8497957222095366, \tValue of c: -0.15662392198536862\n",
      "Iteration: 71\tValue of m: 0.8497957222095366, \tValue of c: -0.15662392198536862\n",
      "Iteration: 72\tValue of m: 0.8497957222095366, \tValue of c: -0.15662392198536862\n",
      "Iteration: 73\tValue of m: 0.8497957222095366, \tValue of c: -0.15662392198536862\n",
      "Iteration: 74\tValue of m: 0.8497957222095366, \tValue of c: -0.15662392198536862\n",
      "Iteration: 75\tValue of m: 0.8497957222095366, \tValue of c: -0.15662392198536862\n",
      "Iteration: 76\tValue of m: 0.8497957222095366, \tValue of c: -0.15662392198536862\n",
      "Iteration: 77\tValue of m: 0.8497957222095366, \tValue of c: -0.15662392198536862\n",
      "Iteration: 78\tValue of m: 0.8497957222095366, \tValue of c: -0.15662392198536862\n",
      "Iteration: 79\tValue of m: 0.8497957222095366, \tValue of c: -0.15662392198536862\n",
      "Iteration: 80\tValue of m: 0.8497957222095366, \tValue of c: -0.15662392198536862\n",
      "Iteration: 81\tValue of m: 0.8497957222095366, \tValue of c: -0.15662392198536862\n",
      "Iteration: 82\tValue of m: 0.8497957222095366, \tValue of c: -0.15662392198536862\n",
      "Iteration: 83\tValue of m: 0.8497957222095366, \tValue of c: -0.15662392198536862\n",
      "Iteration: 84\tValue of m: 0.8497957222095366, \tValue of c: -0.15662392198536862\n",
      "Iteration: 85\tValue of m: 0.8497957222095366, \tValue of c: -0.15662392198536862\n",
      "Iteration: 86\tValue of m: 0.8497957222095366, \tValue of c: -0.15662392198536862\n",
      "Iteration: 87\tValue of m: 0.8497957222095366, \tValue of c: -0.15662392198536862\n",
      "Iteration: 88\tValue of m: 0.8497957222095366, \tValue of c: -0.15662392198536862\n",
      "Iteration: 89\tValue of m: 0.8497957222095366, \tValue of c: -0.15662392198536862\n",
      "Iteration: 90\tValue of m: 0.8497957222095366, \tValue of c: -0.15662392198536862\n",
      "Iteration: 91\tValue of m: 0.8497957222095366, \tValue of c: -0.15662392198536862\n",
      "Iteration: 92\tValue of m: 0.8497957222095366, \tValue of c: -0.15662392198536862\n",
      "Iteration: 93\tValue of m: 0.8497957222095366, \tValue of c: -0.15662392198536862\n",
      "Iteration: 94\tValue of m: 0.8497957222095366, \tValue of c: -0.15662392198536862\n",
      "Iteration: 95\tValue of m: 0.8497957222095366, \tValue of c: -0.15662392198536862\n",
      "Iteration: 96\tValue of m: 0.8497957222095366, \tValue of c: -0.15662392198536862\n",
      "Iteration: 97\tValue of m: 0.8497957222095366, \tValue of c: -0.15662392198536862\n",
      "Iteration: 98\tValue of m: 0.8497957222095366, \tValue of c: -0.15662392198536862\n",
      "Iteration: 99\tValue of m: 0.8497957222095366, \tValue of c: -0.15662392198536862\n",
      "Iteration: 100\tValue of m: 0.8497957222095366, \tValue of c: -0.15662392198536862\n"
     ]
    }
   ],
   "source": [
    "m = 1 #Initial value of slope\n",
    "c = -1 #Initial value of intercept\n",
    "lr = 0.01 #Learning Rate\n",
    "delta_m = 1 #Initialising Δm\n",
    "delta_c = 1 #Initialising Δc\n",
    "v_m = 0\n",
    "v_c = 0\n",
    "lam = 0.9\n",
    "max_iters = 100 #Maximum number of iterations  \n",
    "iters_count = 0 #Counting Iterations\n",
    "\n",
    "\n",
    "def deriv(m_f, c_f, x, y, v1, v2):\n",
    "  global lam\n",
    "  m_deriv = -1 * (y - (m_f - lam * v1) * x - c_f + lam * v2) * x\n",
    "  c_deriv = -1 * (y - (m_f - lam * v1) * x - c_f + lam * v2)\n",
    "  return m_deriv, c_deriv  \n",
    "\n",
    "\n",
    "while iters_count < max_iters:\n",
    "  for i in range(x_train.shape[0]):\n",
    "    delta_m, delta_c = deriv(m, c, x_train.iloc[i], y_train.iloc[i], v_m, v_c)\n",
    "    v_m = lam * v_m - lr * delta_m\n",
    "    v_c = lam * v_c - lr * delta_c\n",
    "    m += v_m\n",
    "    c += v_c\n",
    "  iters_count += 1\n",
    "  print(f\"Iteration: {iters_count}\\tValue of m: {m}, \\tValue of c: {c}\")"
   ]
  },
  {
   "cell_type": "code",
   "execution_count": 10,
   "metadata": {},
   "outputs": [
    {
     "name": "stdout",
     "output_type": "stream",
     "text": [
      "\n",
      "The local minima occurs at: 0.8497957222095366, -0.15662392198536862\n"
     ]
    }
   ],
   "source": [
    "print(f\"\\nThe local minima occurs at: {m}, {c}\")"
   ]
  },
  {
   "cell_type": "code",
   "execution_count": 11,
   "metadata": {},
   "outputs": [],
   "source": [
    "import numpy as np\n",
    "\n",
    "x_train = np.array(x_train)\n",
    "y_train = np.array(y_train)\n",
    "x_test = np.array(x_test)\n",
    "y_test = np.array(y_test)"
   ]
  },
  {
   "cell_type": "code",
   "execution_count": 12,
   "metadata": {},
   "outputs": [],
   "source": [
    "y_pred_train = []\n",
    "for i in x_train:\n",
    "  y_p_tr = (m * i) + c\n",
    "  y_pred_train.append(y_p_tr)\n",
    "y_pred_train = np.array(y_pred_train)"
   ]
  },
  {
   "cell_type": "code",
   "execution_count": 13,
   "metadata": {},
   "outputs": [],
   "source": [
    "y_pred_test = []\n",
    "for i in x_test:\n",
    "  y_p_te = (m * i) + c\n",
    "  y_pred_test.append(y_p_te)\n",
    "y_pred_test = np.array(y_pred_test)"
   ]
  },
  {
   "cell_type": "code",
   "execution_count": 14,
   "metadata": {},
   "outputs": [
    {
     "name": "stdout",
     "output_type": "stream",
     "text": [
      "Root mean square error 0.6518990110770351\n",
      "Mean square error 0.4249723206432163\n",
      "Mean absolute error 0.43781836275406955\n"
     ]
    }
   ],
   "source": [
    "import math\n",
    "from sklearn.metrics import mean_squared_error \n",
    "from sklearn.metrics import mean_absolute_error\n",
    "\n",
    "\n",
    "#Training Accuracies\n",
    "mse = math.sqrt(mean_squared_error(y_train, y_pred_train)) \n",
    "print('Root mean square error', mse) \n",
    "mse = (mean_squared_error(y_train, y_pred_train)) \n",
    "print('Mean square error', mse) \n",
    "mae=mean_absolute_error(y_train, y_pred_train)\n",
    "print('Mean absolute error', mae)"
   ]
  },
  {
   "cell_type": "code",
   "execution_count": 15,
   "metadata": {},
   "outputs": [
    {
     "name": "stdout",
     "output_type": "stream",
     "text": [
      "Root mean square error 0.5874494300215501\n",
      "Mean square error 0.3450968328326441\n",
      "Mean absolute error 0.4057943073140245\n"
     ]
    }
   ],
   "source": [
    "mse = math.sqrt(mean_squared_error(y_test, y_pred_test)) \n",
    "print('Root mean square error', mse) \n",
    "mse = (mean_squared_error(y_test, y_pred_test)) \n",
    "print('Mean square error', mse) \n",
    "mae=mean_absolute_error(y_test, y_pred_test)\n",
    "print('Mean absolute error', mae)"
   ]
  },
  {
   "cell_type": "code",
   "execution_count": 16,
   "metadata": {},
   "outputs": [],
   "source": [
    "dec_1st = []\n",
    "dec_1st.append(df.iloc[-1, 1])\n",
    "for hour in range(24):\n",
    "  normalised_pred = (dec_1st[-1] - df.mean()) / df.std()\n",
    "  pred_load = m * normalised_pred + c\n",
    "  pred_load = (pred_load * df.std()) + df.mean()\n",
    "  dec_1st.append(pred_load)"
   ]
  },
  {
   "cell_type": "code",
   "execution_count": 17,
   "metadata": {},
   "outputs": [
    {
     "name": "stdout",
     "output_type": "stream",
     "text": [
      "Enter an hour(0-23) of 1st December, 2018 to predict the load20\n",
      "Predicted Load (kW) at 20 hours on 1st December, 2018: 4981.967167097543\n"
     ]
    }
   ],
   "source": [
    "hour = input(\"Enter an hour(0-23) of 1st December, 2018 to predict the load\")\n",
    "print(f\"Predicted Load (kW) at {hour} hours on 1st December, 2018: {dec_1st[1 + int(hour)][0]}\")"
   ]
  }
 ],
 "metadata": {
  "kernelspec": {
   "display_name": "Python 3",
   "language": "python",
   "name": "python3"
  },
  "language_info": {
   "codemirror_mode": {
    "name": "ipython",
    "version": 3
   },
   "file_extension": ".py",
   "mimetype": "text/x-python",
   "name": "python",
   "nbconvert_exporter": "python",
   "pygments_lexer": "ipython3",
   "version": "3.7.4"
  }
 },
 "nbformat": 4,
 "nbformat_minor": 2
}
