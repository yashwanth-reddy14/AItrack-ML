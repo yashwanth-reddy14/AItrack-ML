{
 "cells": [
  {
   "cell_type": "code",
   "execution_count": 5,
   "metadata": {},
   "outputs": [
    {
     "data": {
      "text/plain": [
       "     con: array([], dtype=float64)\n",
       "     fun: -5778.9473684210525\n",
       " message: 'Optimization terminated successfully.'\n",
       "     nit: 3\n",
       "   slack: array([0.        , 0.        , 4.73684211])\n",
       "  status: 0\n",
       " success: True\n",
       "       x: array([97.89473684,  7.36842105])"
      ]
     },
     "execution_count": 5,
     "metadata": {},
     "output_type": "execute_result"
    }
   ],
   "source": [
    "from scipy.optimize import linprog\n",
    "objec=[-50,-120]\n",
    "lhs_ceq = [[7000,2000],[10,30],[1,1]]\n",
    "rhs_ceq = [700000,1200,110]\n",
    "bounder=[(0,float('inf')),(0,float('inf'))]\n",
    "optimize = linprog(c=objec,A_ub=lhs_ceq,b_ub=rhs_ceq,bounds=bounder,method=\"simplex\")\n",
    "optimize"
   ]
  },
  {
   "cell_type": "code",
   "execution_count": null,
   "metadata": {},
   "outputs": [],
   "source": []
  }
 ],
 "metadata": {
  "kernelspec": {
   "display_name": "Python 3",
   "language": "python",
   "name": "python3"
  },
  "language_info": {
   "codemirror_mode": {
    "name": "ipython",
    "version": 3
   },
   "file_extension": ".py",
   "mimetype": "text/x-python",
   "name": "python",
   "nbconvert_exporter": "python",
   "pygments_lexer": "ipython3",
   "version": "3.7.4"
  }
 },
 "nbformat": 4,
 "nbformat_minor": 2
}
